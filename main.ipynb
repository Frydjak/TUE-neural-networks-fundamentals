{
 "cells": [
  {
   "cell_type": "code",
   "execution_count": 300,
   "metadata": {},
   "outputs": [],
   "source": [
    "import numpy as np\n",
    "import pandas as pd\n",
    "import matplotlib.pyplot as plt"
   ]
  },
  {
   "cell_type": "code",
   "execution_count": 301,
   "metadata": {},
   "outputs": [],
   "source": [
    "DEBUG = True # Used to display additional information during program execution\n",
    "TEST_SIZE = 1000"
   ]
  },
  {
   "cell_type": "code",
   "execution_count": 302,
   "metadata": {},
   "outputs": [],
   "source": [
    "def show_image(values, index):\n",
    "    \"\"\"\n",
    "    Display image selected by index from gives values matrix\n",
    "    \"\"\"\n",
    "    image = values[:, index, None]\n",
    "    image = image.reshape((28,28)) * 255\n",
    "    plt.gray()\n",
    "    plt.imshow(image)\n",
    "    plt.show()"
   ]
  },
  {
   "cell_type": "code",
   "execution_count": 303,
   "metadata": {},
   "outputs": [
    {
     "name": "stdout",
     "output_type": "stream",
     "text": [
      "   0    1    2    3    4    5    6    7    8    9    ...  775  776  777  778  \\\n",
      "0    5    0    0    0    0    0    0    0    0    0  ...    0    0    0    0   \n",
      "1    0    0    0    0    0    0    0    0    0    0  ...    0    0    0    0   \n",
      "2    4    0    0    0    0    0    0    0    0    0  ...    0    0    0    0   \n",
      "3    1    0    0    0    0    0    0    0    0    0  ...    0    0    0    0   \n",
      "4    9    0    0    0    0    0    0    0    0    0  ...    0    0    0    0   \n",
      "\n",
      "   779  780  781  782  783  784  \n",
      "0    0    0    0    0    0    0  \n",
      "1    0    0    0    0    0    0  \n",
      "2    0    0    0    0    0    0  \n",
      "3    0    0    0    0    0    0  \n",
      "4    0    0    0    0    0    0  \n",
      "\n",
      "[5 rows x 785 columns]\n"
     ]
    }
   ],
   "source": [
    "data = pd.read_csv('Datasets/MNIST_CSV/mnist.csv', header=None)\n",
    "if DEBUG:\n",
    "    print(data.head())\n"
   ]
  },
  {
   "cell_type": "code",
   "execution_count": 304,
   "metadata": {},
   "outputs": [
    {
     "name": "stdout",
     "output_type": "stream",
     "text": [
      "n = 785\n",
      "m = 70000\n",
      "labels_train.shape = (69000,)\n",
      "values_train.shape = (784, 69000)\n",
      "labels_test.shape = (1000,)\n",
      "values_test.shape = (784, 1000)\n"
     ]
    },
    {
     "data": {
      "image/png": "[encoded data removed]",
      "text/plain": [
       "<Figure size 640x480 with 1 Axes>"
      ]
     },
     "metadata": {},
     "output_type": "display_data"
    }
   ],
   "source": [
    "data = np.array(data)\n",
    "m, n = data.shape # n is amount of features including labels \n",
    "\n",
    "np.random.shuffle(data)\n",
    "\n",
    "data_test = data[0:TEST_SIZE].T\n",
    "labels_test = data_test[0]\n",
    "values_test = data_test[1:n] / 255\n",
    "\n",
    "data_train = data[TEST_SIZE:m].T\n",
    "labels_train = data_train[0]\n",
    "values_train = data_train[1:n] / 255\n",
    "\n",
    "if DEBUG:\n",
    "    print(\"n =\",n)\n",
    "    print(\"m =\",m)\n",
    "    print(\"labels_train.shape =\",labels_train.shape)\n",
    "    print(\"values_train.shape =\",values_train.shape)\n",
    "    print(\"labels_test.shape =\",labels_test.shape)\n",
    "    print(\"values_test.shape =\",values_test.shape)\n",
    "    show_image(values_train, 1)"
   ]
  },
  {
   "cell_type": "code",
   "execution_count": 305,
   "metadata": {},
   "outputs": [],
   "source": [
    "def init_params():\n",
    "    \"\"\"Initialize NN weights and biases\"\"\"\n",
    "    #\n",
    "    W1 = np.random.rand(10,784) - 0.5\n",
    "    b1 = np.random.rand(10,1) - 0.5\n",
    "\n",
    "    W2 = np.random.rand(10,10) - 0.5\n",
    "    b2 = np.random.rand(10,1) - 0.5\n",
    "    return W1, b1, W2, b2\n",
    "\n",
    "def ReLU(Z):\n",
    "    \"\"\"Calculate ReLu activation function\"\"\"\n",
    "    return np.maximum(0, Z)\n",
    "\n",
    "def sigmoid(Z):\n",
    "    \"\"\"Calculate Sigmoid activation function\"\"\"\n",
    "    return 1 / (1 + np.exp(-Z))\n",
    "\n",
    "def softmax(Z):\n",
    "    \"\"\"Calculate softmax of given vector Z\"\"\"\n",
    "    Z -= np.max(Z, axis=0)\n",
    "    A = np.exp(Z) / np.sum(np.exp(Z), axis=0)\n",
    "    return A\n",
    "\n",
    "\n",
    "def forward_propagation(W1, b1, W2, b2, values):\n",
    "    Z1 = W1.dot(values) + b1\n",
    "    A1 = ReLU(Z1)\n",
    "    Z2 = W2.dot(A1) + b2\n",
    "    A2 = softmax(Z2)\n",
    "    return Z1, A1, Z2, A2\n",
    "\n",
    "def one_hot(labels):\n",
    "    one_hot_labels = np.zeros((labels.size, labels.max() + 1))\n",
    "    one_hot_labels[np.arange(labels.size), labels] = 1\n",
    "    return one_hot_labels.T\n",
    "\n",
    "def deriv_ReLU(Z):\n",
    "    return Z > 0\n",
    "    \n",
    "    \n",
    "\n",
    "def back_propagation(Z1, A1, Z2, A2, W2, values, labels):\n",
    "    one_hot_labels = one_hot(labels)\n",
    "    dZ2 = A2 - one_hot_labels\n",
    "    dW2 = 1 / m * dZ2.dot(A1.T)\n",
    "    db2 = 1 / m * np.sum(dZ2, 1)\n",
    "    dZ1 = W2.T.dot(dZ2) * deriv_ReLU(Z1)\n",
    "    dW1 = 1 / m * dZ1.dot(values.T)\n",
    "    db1 = 1 / m * np.sum(dZ1, 1)\n",
    "    return dW1, db1, dW2, db2\n",
    "\n",
    "def update_params(W1, b1, W2, b2, dW1, db1, dW2, db2, alpha):\n",
    "    W1 = W1 - alpha * dW1\n",
    "    b1 = b1 - alpha * np.reshape(db1, (10,1))\n",
    "    W2 = W2 - alpha * dW2\n",
    "    b2 = b2 - alpha * np.reshape(db2, (10,1))\n",
    "    return W1, b1, W2, b2"
   ]
  },
  {
   "cell_type": "code",
   "execution_count": 306,
   "metadata": {},
   "outputs": [],
   "source": [
    "def get_predictions(A2):\n",
    "    return np.argmax(A2, 0)\n",
    "\n",
    "def get_accuracy(predictions, labels):\n",
    "    print (predictions, labels)\n",
    "    return np.sum(predictions == labels) / labels.size\n",
    "    \n",
    "\n",
    "def gradient_descent(values, labels, iterations, alpha):\n",
    "    W1, b1, W2, b2 = init_params()\n",
    "    for i in range(iterations):\n",
    "        Z1, A1, Z2, A2 = forward_propagation(W1, b1, W2, b2, values)\n",
    "        dW1, db1, dW2, db2 = back_propagation(Z1, A1, Z2, A2, W2, values, labels)\n",
    "        W1, b1, W2, b2 = update_params(W1, b1, W2, b2, dW1, db1, dW2, db2, alpha)\n",
    "        if i % 10 == 0:\n",
    "            print(\"Iteration:\", i)\n",
    "            print(\"Accuracy: \", get_accuracy(get_predictions(A2), labels))\n",
    "    return W1, b1, W2, b2"
   ]
  },
  {
   "cell_type": "code",
   "execution_count": 307,
   "metadata": {},
   "outputs": [
    {
     "name": "stdout",
     "output_type": "stream",
     "text": [
      "Iteration: 0\n",
      "[7 8 8 ... 8 8 7] [2 1 0 ... 1 1 3]\n",
      "Accuracy:  0.09427536231884058\n",
      "Iteration: 10\n",
      "[7 8 8 ... 8 3 7] [2 1 0 ... 1 1 3]\n",
      "Accuracy:  0.1075072463768116\n",
      "Iteration: 20\n",
      "[7 3 8 ... 8 3 7] [2 1 0 ... 1 1 3]\n",
      "Accuracy:  0.12036231884057971\n"
     ]
    }
   ],
   "source": [
    "W1, b1, W2, b2 = gradient_descent(values_train, labels_train, 100, 0.01)"
   ]
  }
 ],
 "metadata": {
  "kernelspec": {
   "display_name": "experiments",
   "language": "python",
   "name": "python3"
  },
  "language_info": {
   "codemirror_mode": {
    "name": "ipython",
    "version": 3
   },
   "file_extension": ".py",
   "mimetype": "text/x-python",
   "name": "python",
   "nbconvert_exporter": "python",
   "pygments_lexer": "ipython3",
   "version": "3.8.20"
  }
 },
 "nbformat": 4,
 "nbformat_minor": 2
}
