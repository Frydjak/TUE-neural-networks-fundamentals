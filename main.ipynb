{
 "cells": [
  {
   "cell_type": "code",
   "execution_count": 101,
   "metadata": {},
   "outputs": [],
   "source": [
    "import numpy as np\n",
    "import pandas as pd\n",
    "import matplotlib.pyplot as plt"
   ]
  },
  {
   "cell_type": "code",
   "execution_count": 102,
   "metadata": {},
   "outputs": [],
   "source": [
    "DEBUG = True"
   ]
  },
  {
   "cell_type": "code",
   "execution_count": 103,
   "metadata": {},
   "outputs": [],
   "source": [
    "def show_image(values, index):\n",
    "    image = values[:, index, None]\n",
    "    image = image.reshape((28,28)) * 255\n",
    "    plt.gray()\n",
    "    plt.imshow(image)\n",
    "    plt.show()"
   ]
  },
  {
   "cell_type": "code",
   "execution_count": 106,
   "metadata": {},
   "outputs": [],
   "source": [
    "data = pd.read_csv('Datasets/MNIST_CSV/mnist.csv', header=None)\n",
    "if DEBUG:\n",
    "    data.head()\n"
   ]
  },
  {
   "cell_type": "code",
   "execution_count": 107,
   "metadata": {},
   "outputs": [
    {
     "name": "stdout",
     "output_type": "stream",
     "text": [
      "785\n",
      "70000\n",
      "(69000,)\n",
      "(784, 69000)\n",
      "(1000,)\n",
      "(784, 1000)\n"
     ]
    },
    {
     "data": {
      "image/png": "[encoded data removed]",
      "text/plain": [
       "<Figure size 640x480 with 1 Axes>"
      ]
     },
     "metadata": {},
     "output_type": "display_data"
    }
   ],
   "source": [
    "data = np.array(data)\n",
    "m, n = data.shape # n is amount of features including labels \n",
    "\n",
    "np.random.shuffle(data)\n",
    "\n",
    "data_test = data[0:1000].T\n",
    "labels_test = data_test[0]\n",
    "values_test = data_test[1:n]\n",
    "\n",
    "data_train = data[1000:m].T\n",
    "labels_train = data_train[0]\n",
    "values_train = data_train[1:n]\n",
    "\n",
    "if DEBUG:\n",
    "    print(n)\n",
    "    print(m)\n",
    "    print(labels_train.shape)\n",
    "    print(values_train.shape)\n",
    "    print(labels_test.shape)\n",
    "    print(values_test.shape)\n",
    "    show_image(values_train, 1)"
   ]
  },
  {
   "cell_type": "code",
   "execution_count": null,
   "metadata": {},
   "outputs": [],
   "source": [
    "\n"
   ]
  }
 ],
 "metadata": {
  "kernelspec": {
   "display_name": "experiments",
   "language": "python",
   "name": "python3"
  },
  "language_info": {
   "codemirror_mode": {
    "name": "ipython",
    "version": 3
   },
   "file_extension": ".py",
   "mimetype": "text/x-python",
   "name": "python",
   "nbconvert_exporter": "python",
   "pygments_lexer": "ipython3",
   "version": "3.8.20"
  }
 },
 "nbformat": 4,
 "nbformat_minor": 2
}
