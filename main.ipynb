{
 "cells": [
  {
   "cell_type": "code",
   "execution_count": 28,
   "metadata": {},
   "outputs": [],
   "source": [
    "import numpy as np\n",
    "import pandas as pd\n",
    "import matplotlib.pyplot as plt"
   ]
  },
  {
   "cell_type": "code",
   "execution_count": 29,
   "metadata": {},
   "outputs": [],
   "source": [
    "DEBUG = True # Used to display additional information during program execution\n",
    "TEST_SIZE = 1000\n",
    "VALIDATION_SIZE = 1000"
   ]
  },
  {
   "cell_type": "code",
   "execution_count": 30,
   "metadata": {},
   "outputs": [],
   "source": [
    "def show_image(values, index):\n",
    "    \"\"\"\n",
    "    Display image selected by index from gives values matrix\n",
    "    \"\"\"\n",
    "    image = values[:, index, None]\n",
    "    image = image.reshape((28,28)) * 255\n",
    "    plt.gray()\n",
    "    plt.imshow(image)\n",
    "    plt.show()"
   ]
  },
  {
   "cell_type": "code",
   "execution_count": 31,
   "metadata": {},
   "outputs": [
    {
     "name": "stdout",
     "output_type": "stream",
     "text": [
      "   0    1    2    3    4    5    6    7    8    9    ...  775  776  777  778  \\\n",
      "0    5    0    0    0    0    0    0    0    0    0  ...    0    0    0    0   \n",
      "1    0    0    0    0    0    0    0    0    0    0  ...    0    0    0    0   \n",
      "2    4    0    0    0    0    0    0    0    0    0  ...    0    0    0    0   \n",
      "3    1    0    0    0    0    0    0    0    0    0  ...    0    0    0    0   \n",
      "4    9    0    0    0    0    0    0    0    0    0  ...    0    0    0    0   \n",
      "\n",
      "   779  780  781  782  783  784  \n",
      "0    0    0    0    0    0    0  \n",
      "1    0    0    0    0    0    0  \n",
      "2    0    0    0    0    0    0  \n",
      "3    0    0    0    0    0    0  \n",
      "4    0    0    0    0    0    0  \n",
      "\n",
      "[5 rows x 785 columns]\n"
     ]
    }
   ],
   "source": [
    "#Load dataset from a file\n",
    "data = pd.read_csv('Datasets/MNIST_CSV/mnist.csv', header=None)\n",
    "if DEBUG:\n",
    "    print(data.head())"
   ]
  },
  {
   "cell_type": "code",
   "execution_count": 32,
   "metadata": {},
   "outputs": [
    {
     "name": "stdout",
     "output_type": "stream",
     "text": [
      "n = 785\n",
      "m = 70000\n",
      "labels_train.shape = (69000,)\n",
      "values_train.shape = (784, 69000)\n",
      "labels_test.shape = (1000,)\n",
      "values_test.shape = (784, 1000)\n"
     ]
    },
    {
     "data": {
      "image/png": "[encoded data removed]",
      "text/plain": [
       "<Figure size 640x480 with 1 Axes>"
      ]
     },
     "metadata": {},
     "output_type": "display_data"
    }
   ],
   "source": [
    "# Divide dataset to test, validation and train sets\n",
    "\n",
    "data = np.array(data)\n",
    "m, n = data.shape # n is amount of features including labels \n",
    "\n",
    "np.random.shuffle(data)\n",
    "\n",
    "data_test = data[0:TEST_SIZE].T\n",
    "labels_test = data_test[0]\n",
    "values_test = data_test[1:n] / 255\n",
    "\n",
    "data_validation = data[TEST_SIZE:(TEST_SIZE+ VALIDATION_SIZE)].T\n",
    "labels_validation = data_validation[0]\n",
    "values_validation = data_validation[1:n] / 255\n",
    "\n",
    "data_train = data[TEST_SIZE:m].T\n",
    "labels_train = data_train[0]\n",
    "values_train = data_train[1:n] / 255\n",
    "\n",
    "if DEBUG:\n",
    "    print(\"n =\",n)\n",
    "    print(\"m =\",m)\n",
    "    print(\"labels_train.shape =\",labels_train.shape)\n",
    "    print(\"values_train.shape =\",values_train.shape)\n",
    "    print(\"labels_test.shape =\",labels_test.shape)\n",
    "    print(\"values_test.shape =\",values_test.shape)\n",
    "    show_image(values_train, 1)"
   ]
  },
  {
   "cell_type": "code",
   "execution_count": 33,
   "metadata": {},
   "outputs": [],
   "source": [
    "def init_params():\n",
    "    \"\"\"Initialize NN weights and biases\"\"\"\n",
    "    #\n",
    "    W1 = np.random.rand(10,784) - 0.5\n",
    "    b1 = np.random.rand(10,1) - 0.5\n",
    "\n",
    "    W2 = np.random.rand(10,10) - 0.5\n",
    "    b2 = np.random.rand(10,1) - 0.5\n",
    "    return W1, b1, W2, b2\n",
    "\n",
    "def ReLU(Z):\n",
    "    \"\"\"Calculate ReLu activation function\"\"\"\n",
    "    return np.maximum(0, Z)\n",
    "\n",
    "def sigmoid(Z):\n",
    "    \"\"\"Calculate Sigmoid activation function\"\"\"\n",
    "    return 1 / (1 + np.exp(-Z))\n",
    "\n",
    "def softmax(Z):\n",
    "    \"\"\"Calculate softmax of given vector Z\"\"\"\n",
    "    Z -= np.max(Z, axis=0)\n",
    "    A = np.exp(Z) / np.sum(np.exp(Z), axis=0)\n",
    "    return A\n",
    "\n",
    "def forward_propagation(W1, b1, W2, b2, values):\n",
    "    \"\"\"Pass through the NN input->output\"\"\"\n",
    "    Z1 = W1.dot(values) + b1\n",
    "    A1 = ReLU(Z1)\n",
    "    Z2 = W2.dot(A1) + b2\n",
    "    A2 = softmax(Z2)\n",
    "    return Z1, A1, Z2, A2\n",
    "\n",
    "def one_hot(labels):\n",
    "    \"\"\"Perform one hot encoding returning a binary matrix based on provided labels\"\"\"\n",
    "    # Class 0 -> [1,0,0,...]\n",
    "    # Class 1 -> [0,1,0,...]\n",
    "    # ...\n",
    "\n",
    "    one_hot_labels = np.zeros((labels.size, labels.max() + 1))\n",
    "    one_hot_labels[np.arange(labels.size), labels] = 1\n",
    "    return one_hot_labels.T\n",
    "\n",
    "def deriv_ReLU(Z):\n",
    "    \"\"\"Derivative of ReLU activation function\"\"\"\n",
    "    return Z > 0\n",
    "\n",
    "def deriv_sigmoid(Z):\n",
    "    \"\"\"Calculate derivative of sigmoid activation function\"\"\"\n",
    "    return sigmoid(Z) * (1 - sigmoid(Z))\n",
    "    \n",
    "def back_propagation(Z1, A1, Z2, A2, W2, values, labels):\n",
    "    \"\"\"Perform back propagation through NN output->input\"\"\"\n",
    "\n",
    "    # Calculate output error compared to one hot labels\n",
    "    one_hot_labels = one_hot(labels)\n",
    "    dZ2 = A2 - one_hot_labels\n",
    "\n",
    "    # Calculate gradients for weights in second layer\n",
    "    dW2 = 1 / m * dZ2.dot(A1.T)\n",
    "    db2 = 1 / m * np.sum(dZ2, 1)\n",
    "\n",
    "    # calculate first layers error by propagating error backwards\n",
    "    dZ1 = W2.T.dot(dZ2) * deriv_ReLU(Z1)\n",
    "\n",
    "    # Calculate gradients for weights in first layer\n",
    "    dW1 = 1 / m * dZ1.dot(values.T)\n",
    "    db1 = 1 / m * np.sum(dZ1, 1)\n",
    "\n",
    "    return dW1, db1, dW2, db2\n",
    "\n",
    "def update_params(W1, b1, W2, b2, dW1, db1, dW2, db2, alpha):\n",
    "    \"\"\"Update NN weights and biases\"\"\"\n",
    "    W1 = W1 - alpha * dW1\n",
    "    b1 = b1 - alpha * np.reshape(db1, (10,1)) # reshape from single value to vector\n",
    "    W2 = W2 - alpha * dW2\n",
    "    b2 = b2 - alpha * np.reshape(db2, (10,1)) # reshape from single value to vector\n",
    "    return W1, b1, W2, b2"
   ]
  },
  {
   "cell_type": "code",
   "execution_count": 34,
   "metadata": {},
   "outputs": [],
   "source": [
    "def cross_entropy_loss(A2, labels):\n",
    "    \"\"\"\n",
    "    Calculate cross-entropy loss \n",
    "    \"\"\"\n",
    "    m = labels.shape[1]\n",
    "    log_likelihood = -np.log(A2[labels == 1])\n",
    "    loss = np.sum(log_likelihood) / m\n",
    "    return loss"
   ]
  },
  {
   "cell_type": "code",
   "execution_count": 35,
   "metadata": {},
   "outputs": [],
   "source": [
    "def get_predictions(A2):\n",
    "    \"\"\"Use highest value from given vector for prediction\"\"\"\n",
    "    return np.argmax(A2, 0)\n",
    "\n",
    "def get_accuracy(predictions, labels):\n",
    "    \"\"\"Calculate accuracy based on given predictions and labels\"\"\"\n",
    "    return np.sum(predictions == labels) / labels.size\n",
    "\n",
    "def make_predictions(values, W1, b1, W2, b2):\n",
    "    \"\"\"Make prediction based on chosen values using given model parameters\"\"\"\n",
    "    _, _, _, A2 = forward_propagation(W1,b1,W2,b2,values)\n",
    "    predictions = get_predictions(A2)\n",
    "    return predictions\n",
    "    \n",
    "def gradient_descent(values_train, labels_train, iterations, alpha, values_validation, labels_validation ):\n",
    "    \"\"\"Create a 3 layer NN and train it using gradient descent method\"\"\"\n",
    "    W1, b1, W2, b2 = init_params()\n",
    "    accuracy_history = [0]\n",
    "    for i in range(iterations):\n",
    "        \n",
    "        # NN training \n",
    "        Z1, A1, Z2, A2 = forward_propagation(W1, b1, W2, b2, values_train)\n",
    "        dW1, db1, dW2, db2 = back_propagation(Z1, A1, Z2, A2, W2, values_train, labels_train)\n",
    "        W1, b1, W2, b2 = update_params(W1, b1, W2, b2, dW1, db1, dW2, db2, alpha)\n",
    "\n",
    "        # Training pogress \n",
    "        if i % 10 == 0:\n",
    "            print(\"Iteration:\", i)\n",
    "\n",
    "            # make predictions and test accuracy using validation set\n",
    "            predictions = make_predictions(values_validation, W1, b1, W2, b2)\n",
    "            accuracy = get_accuracy(predictions, labels_validation)\n",
    "            print(\"Accuracy: \", accuracy)\n",
    "\n",
    "            # present traininig progress\n",
    "            accuracy_history.append(accuracy)\n",
    "            plt.plot (accuracy_history)\n",
    "            plt.xlabel('Iterations (x10)')\n",
    "            plt.ylabel('Accuracy')\n",
    "            plt.show()\n",
    "\n",
    "    return W1, b1, W2, b2"
   ]
  },
  {
   "cell_type": "code",
   "execution_count": 36,
   "metadata": {},
   "outputs": [
    {
     "name": "stdout",
     "output_type": "stream",
     "text": [
      "Iteration: 0\n",
      "Accuracy:  0.097\n"
     ]
    },
    {
     "data": {
      "image/png": "[encoded data removed]",
      "text/plain": [
       "<Figure size 640x480 with 1 Axes>"
      ]
     },
     "metadata": {},
     "output_type": "display_data"
    },
    {
     "ename": "KeyboardInterrupt",
     "evalue": "",
     "output_type": "error",
     "traceback": [
      "\u001b[0;31m---------------------------------------------------------------------------\u001b[0m",
      "\u001b[0;31mKeyboardInterrupt\u001b[0m                         Traceback (most recent call last)",
      "Cell \u001b[0;32mIn[36], line 1\u001b[0m\n\u001b[0;32m----> 1\u001b[0m W1, b1, W2, b2 \u001b[38;5;241m=\u001b[39m \u001b[43mgradient_descent\u001b[49m\u001b[43m(\u001b[49m\u001b[43mvalues_train\u001b[49m\u001b[43m,\u001b[49m\u001b[43m \u001b[49m\u001b[43mlabels_train\u001b[49m\u001b[43m,\u001b[49m\u001b[43m \u001b[49m\u001b[38;5;241;43m500\u001b[39;49m\u001b[43m,\u001b[49m\u001b[43m \u001b[49m\u001b[38;5;241;43m0.1\u001b[39;49m\u001b[43m,\u001b[49m\u001b[43m \u001b[49m\u001b[43mvalues_validation\u001b[49m\u001b[43m,\u001b[49m\u001b[43m \u001b[49m\u001b[43mlabels_validation\u001b[49m\u001b[43m)\u001b[49m\n",
      "Cell \u001b[0;32mIn[35], line 22\u001b[0m, in \u001b[0;36mgradient_descent\u001b[0;34m(values_train, labels_train, iterations, alpha, values_validation, labels_validation)\u001b[0m\n\u001b[1;32m     18\u001b[0m accuracy_history \u001b[38;5;241m=\u001b[39m [\u001b[38;5;241m0\u001b[39m]\n\u001b[1;32m     19\u001b[0m \u001b[38;5;28;01mfor\u001b[39;00m i \u001b[38;5;129;01min\u001b[39;00m \u001b[38;5;28mrange\u001b[39m(iterations):\n\u001b[1;32m     20\u001b[0m     \n\u001b[1;32m     21\u001b[0m     \u001b[38;5;66;03m# NN training \u001b[39;00m\n\u001b[0;32m---> 22\u001b[0m     Z1, A1, Z2, A2 \u001b[38;5;241m=\u001b[39m \u001b[43mforward_propagation\u001b[49m\u001b[43m(\u001b[49m\u001b[43mW1\u001b[49m\u001b[43m,\u001b[49m\u001b[43m \u001b[49m\u001b[43mb1\u001b[49m\u001b[43m,\u001b[49m\u001b[43m \u001b[49m\u001b[43mW2\u001b[49m\u001b[43m,\u001b[49m\u001b[43m \u001b[49m\u001b[43mb2\u001b[49m\u001b[43m,\u001b[49m\u001b[43m \u001b[49m\u001b[43mvalues_train\u001b[49m\u001b[43m)\u001b[49m\n\u001b[1;32m     23\u001b[0m     dW1, db1, dW2, db2 \u001b[38;5;241m=\u001b[39m back_propagation(Z1, A1, Z2, A2, W2, values_train, labels_train)\n\u001b[1;32m     24\u001b[0m     W1, b1, W2, b2 \u001b[38;5;241m=\u001b[39m update_params(W1, b1, W2, b2, dW1, db1, dW2, db2, alpha)\n",
      "Cell \u001b[0;32mIn[33], line 27\u001b[0m, in \u001b[0;36mforward_propagation\u001b[0;34m(W1, b1, W2, b2, values)\u001b[0m\n\u001b[1;32m     25\u001b[0m \u001b[38;5;28;01mdef\u001b[39;00m \u001b[38;5;21mforward_propagation\u001b[39m(W1, b1, W2, b2, values):\n\u001b[1;32m     26\u001b[0m \u001b[38;5;250m    \u001b[39m\u001b[38;5;124;03m\"\"\"Pass through the NN input->output\"\"\"\u001b[39;00m\n\u001b[0;32m---> 27\u001b[0m     Z1 \u001b[38;5;241m=\u001b[39m \u001b[43mW1\u001b[49m\u001b[38;5;241;43m.\u001b[39;49m\u001b[43mdot\u001b[49m\u001b[43m(\u001b[49m\u001b[43mvalues\u001b[49m\u001b[43m)\u001b[49m \u001b[38;5;241m+\u001b[39m b1\n\u001b[1;32m     28\u001b[0m     A1 \u001b[38;5;241m=\u001b[39m ReLU(Z1)\n\u001b[1;32m     29\u001b[0m     Z2 \u001b[38;5;241m=\u001b[39m W2\u001b[38;5;241m.\u001b[39mdot(A1) \u001b[38;5;241m+\u001b[39m b2\n",
      "\u001b[0;31mKeyboardInterrupt\u001b[0m: "
     ]
    }
   ],
   "source": [
    "W1, b1, W2, b2 = gradient_descent(values_train, labels_train, 500, 0.1, values_validation, labels_validation)"
   ]
  }
 ],
 "metadata": {
  "kernelspec": {
   "display_name": "experiments",
   "language": "python",
   "name": "python3"
  },
  "language_info": {
   "codemirror_mode": {
    "name": "ipython",
    "version": 3
   },
   "file_extension": ".py",
   "mimetype": "text/x-python",
   "name": "python",
   "nbconvert_exporter": "python",
   "pygments_lexer": "ipython3",
   "version": "3.8.20"
  }
 },
 "nbformat": 4,
 "nbformat_minor": 2
}
